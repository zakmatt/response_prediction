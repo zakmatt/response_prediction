{
 "cells": [
  {
   "cell_type": "code",
   "execution_count": 117,
   "metadata": {},
   "outputs": [],
   "source": [
    "import matplotlib.pyplot as plt\n",
    "import pandas as pd\n",
    "import seaborn as sns\n",
    "import torch\n",
    "import torch.nn as nn\n",
    "import torch.nn.functional as F\n",
    "\n",
    "from sklearn.metrics import auc, confusion_matrix, roc_curve\n",
    "from sklearn.model_selection import train_test_split\n",
    "from torch.autograd import Variable"
   ]
  },
  {
   "cell_type": "code",
   "execution_count": 83,
   "metadata": {},
   "outputs": [],
   "source": [
    "plt.rcParams['figure.figsize'] = [9, 7]"
   ]
  },
  {
   "cell_type": "code",
   "execution_count": 33,
   "metadata": {},
   "outputs": [],
   "source": [
    "train_data = pd.read_csv('./data/train_data.csv')\n",
    "target_y = train_data['response'].values\n",
    "input_features = train_data.drop(columns='response').values"
   ]
  },
  {
   "cell_type": "code",
   "execution_count": 39,
   "metadata": {},
   "outputs": [],
   "source": [
    "train_x, validation_x, train_y, validation_y = train_test_split(input_features, target_y, test_size=0.1, stratify=target_y)"
   ]
  },
  {
   "cell_type": "code",
   "execution_count": 42,
   "metadata": {},
   "outputs": [
    {
     "name": "stdout",
     "output_type": "stream",
     "text": [
      "Train input x shape: (199, 1194)\n",
      "Train output y shape: (199,)\n",
      "Validation input x shape: (23, 1194)\n",
      "Validation output y shape: (23,)\n"
     ]
    }
   ],
   "source": [
    "print('Train input x shape: {}'.format(train_x.shape))\n",
    "print('Train output y shape: {}'.format(train_y.shape))\n",
    "print('Validation input x shape: {}'.format(validation_x.shape))\n",
    "print('Validation output y shape: {}'.format(validation_y.shape))"
   ]
  },
  {
   "cell_type": "code",
   "execution_count": 26,
   "metadata": {},
   "outputs": [],
   "source": [
    "def generate_batches(input_data, output_data, batch_size):\n",
    "    number_of_samples = input_data.shape[0]\n",
    "    number_of_batches = number_of_samples // batch_size + 1 # +1 for the residual part\n",
    "    for i in range(number_of_batches):\n",
    "        input_features_batch = input_data[i * batch_size:(i + 1) * batch_size]\n",
    "        output_data_batch = output_data[i * batch_size:(i + 1) * batch_size]\n",
    "        yield input_features_batch, output_data_batch"
   ]
  },
  {
   "cell_type": "markdown",
   "metadata": {},
   "source": [
    "## Create Logistic Regression classifier"
   ]
  },
  {
   "cell_type": "code",
   "execution_count": 44,
   "metadata": {},
   "outputs": [],
   "source": [
    "class LogisticRegression(nn.Module):\n",
    "    \n",
    "    def __init__(self, input_dim, output_dim):\n",
    "        super(LogisticRegression, self).__init__()\n",
    "        self._linear = torch.nn.Linear(input_dim, output_dim)\n",
    "        self._loss = nn.BCELoss()\n",
    "\n",
    "    def forward(self, input_x):\n",
    "        input_x = Variable(input_x)\n",
    "        x = self._linear(input_x)\n",
    "        output = F.sigmoid(x)\n",
    "        return output\n",
    "    \n",
    "    def loss(self, predicted, target):\n",
    "        \"\"\"Loss method\"\"\"\n",
    "        \n",
    "        target = Variable(target)\n",
    "        return self._loss(predicted, target)"
   ]
  },
  {
   "cell_type": "code",
   "execution_count": 73,
   "metadata": {},
   "outputs": [],
   "source": [
    "nb_epochs = 300\n",
    "batch_size = 8"
   ]
  },
  {
   "cell_type": "code",
   "execution_count": 74,
   "metadata": {},
   "outputs": [],
   "source": [
    "lr_model = LogisticRegression(input_features.shape[1], 1)\n",
    "optimizer = torch.optim.Adam(lr_model.parameters())"
   ]
  },
  {
   "cell_type": "code",
   "execution_count": 75,
   "metadata": {},
   "outputs": [
    {
     "name": "stdout",
     "output_type": "stream",
     "text": [
      "Epoch 20, train loss = 0.0286, validation loss = 0.0508\n",
      "Epoch 40, train loss = 0.0114, validation loss = 0.0404\n",
      "Epoch 60, train loss = 0.0060, validation loss = 0.0378\n",
      "Epoch 80, train loss = 0.0036, validation loss = 0.0368\n",
      "Epoch 100, train loss = 0.0024, validation loss = 0.0365\n",
      "Epoch 120, train loss = 0.0017, validation loss = 0.0366\n",
      "Epoch 140, train loss = 0.0012, validation loss = 0.0368\n",
      "Epoch 160, train loss = 0.0009, validation loss = 0.0371\n",
      "Epoch 180, train loss = 0.0006, validation loss = 0.0375\n",
      "Epoch 200, train loss = 0.0005, validation loss = 0.0380\n",
      "Epoch 220, train loss = 0.0004, validation loss = 0.0386\n",
      "Epoch 240, train loss = 0.0003, validation loss = 0.0391\n",
      "Epoch 260, train loss = 0.0002, validation loss = 0.0398\n",
      "Epoch 280, train loss = 0.0002, validation loss = 0.0404\n",
      "Epoch 300, train loss = 0.0001, validation loss = 0.0411\n"
     ]
    }
   ],
   "source": [
    "train_losses = []\n",
    "validation_losses = []\n",
    "lr_model.train()\n",
    "for epoch in range(nb_epochs):\n",
    "    for batch in generate_batches(train_x, train_y, batch_size):\n",
    "        input_x, output_y = [torch.Tensor(x) for x in batch]\n",
    "        \n",
    "        output = lr_model.forward(input_x.float())\n",
    "        loss = lr_model.loss(output, output_y.float())\n",
    "            \n",
    "        optimizer.zero_grad()\n",
    "        loss.backward()\n",
    "        optimizer.step()\n",
    "        epoch_loss.append(loss.item())\n",
    "\n",
    "    with torch.no_grad():\n",
    "        input_x_train = torch.Tensor(train_x)\n",
    "        output_y_train = torch.Tensor(train_y)\n",
    "        input_x_validation = torch.Tensor(validation_x)\n",
    "        output_y_validation = torch.Tensor(validation_y)\n",
    "        \n",
    "        train_output = lr_model.forward(input_x_train.float())\n",
    "        validation_output = lr_model.forward(input_x_validation.float())\n",
    "        \n",
    "        train_loss = lr_model.loss(train_output, output_y_train)\n",
    "        validation_loss = lr_model.loss(validation_output, output_y_validation)\n",
    "        train_losses.append(train_loss.item())\n",
    "        validation_losses.append(validation_loss.item())\n",
    "    if (epoch + 1) % 20 == 0:\n",
    "        print(\n",
    "            'Epoch {}, train loss = {:0.4f}, validation loss = {:0.4f}'.format(\n",
    "                epoch + 1, train_losses[epoch], validation_losses[epoch]\n",
    "            )\n",
    "        )"
   ]
  },
  {
   "cell_type": "code",
   "execution_count": 84,
   "metadata": {},
   "outputs": [
    {
     "data": {
      "image/png": "[encoded data removed]",
      "text/plain": [
       "<Figure size 648x504 with 1 Axes>"
      ]
     },
     "metadata": {
      "needs_background": "light"
     },
     "output_type": "display_data"
    }
   ],
   "source": [
    "plt.plot(range(len(train_losses)), train_losses, label='Train loss')\n",
    "plt.plot(range(len(validation_losses)), validation_losses, label='Validation_loss')\n",
    "plt.title('Training and validation loss change during training')\n",
    "plt.xlabel('Epoch #')\n",
    "plt.ylabel('Loss')\n",
    "plt.legend()\n",
    "plt.grid()\n",
    "plt.show()"
   ]
  },
  {
   "cell_type": "code",
   "execution_count": 86,
   "metadata": {},
   "outputs": [],
   "source": [
    "test_data = pd.read_csv('./data/test_data.csv')"
   ]
  },
  {
   "cell_type": "code",
   "execution_count": 96,
   "metadata": {},
   "outputs": [],
   "source": [
    "test_y = test_data['response'].values\n",
    "test_y = test_y.reshape(-1, 1)\n",
    "test_features = test_data.drop(columns='response').values"
   ]
  },
  {
   "cell_type": "code",
   "execution_count": 97,
   "metadata": {},
   "outputs": [
    {
     "data": {
      "text/plain": [
       "LogisticRegression(\n",
       "  (_linear): Linear(in_features=1194, out_features=1, bias=True)\n",
       "  (_loss): BCELoss()\n",
       ")"
      ]
     },
     "execution_count": 97,
     "metadata": {},
     "output_type": "execute_result"
    }
   ],
   "source": [
    "lr_model.eval()"
   ]
  },
  {
   "cell_type": "code",
   "execution_count": 98,
   "metadata": {},
   "outputs": [],
   "source": [
    "test_features = torch.Tensor(test_features)\n",
    "test_y = torch.Tensor(test_y)"
   ]
  },
  {
   "cell_type": "code",
   "execution_count": 99,
   "metadata": {},
   "outputs": [
    {
     "data": {
      "text/plain": [
       "torch.Size([308, 1])"
      ]
     },
     "execution_count": 99,
     "metadata": {},
     "output_type": "execute_result"
    }
   ],
   "source": [
    "test_y.shape"
   ]
  },
  {
   "cell_type": "code",
   "execution_count": 100,
   "metadata": {},
   "outputs": [],
   "source": [
    "predicted = lr_model.forward(test_features.float())\n",
    "loss = lr_model.loss(out, test_y.float())"
   ]
  },
  {
   "cell_type": "code",
   "execution_count": 106,
   "metadata": {},
   "outputs": [],
   "source": [
    "predicted = out.detach().numpy().reshape(-1)\n",
    "real = test_y.detach().numpy().reshape(-1)"
   ]
  },
  {
   "cell_type": "code",
   "execution_count": 115,
   "metadata": {},
   "outputs": [
    {
     "data": {
      "text/plain": [
       "<Figure size 648x504 with 0 Axes>"
      ]
     },
     "metadata": {},
     "output_type": "display_data"
    },
    {
     "data": {
      "image/png": "[encoded data removed]",
      "text/plain": [
       "<Figure size 720x504 with 2 Axes>"
      ]
     },
     "metadata": {
      "needs_background": "light"
     },
     "output_type": "display_data"
    }
   ],
   "source": [
    "c_mtx = confusion_matrix(real, predicted.round())\n",
    "df_cm = pd.DataFrame(c_mtx)\n",
    "fig = plt.figure()\n",
    "plt.figure(figsize = (10,7))\n",
    "sns_plot = sns.heatmap(df_cm, annot=True, fmt='g')\n",
    "plt.ylabel('True label')\n",
    "plt.xlabel('Predicted label')\n",
    "plt.show()"
   ]
  },
  {
   "cell_type": "code",
   "execution_count": 124,
   "metadata": {},
   "outputs": [
    {
     "name": "stderr",
     "output_type": "stream",
     "text": [
      "/Users/matt/anaconda/lib/python3.6/site-packages/sklearn/metrics/ranking.py:571: UndefinedMetricWarning: No positive samples in y_true, true positive value should be meaningless\n",
      "  UndefinedMetricWarning)\n"
     ]
    }
   ],
   "source": [
    "fpr, tpr, thresholds = roc_curve(real, predicted.round(), pos_label=2)"
   ]
  },
  {
   "cell_type": "code",
   "execution_count": 125,
   "metadata": {},
   "outputs": [
    {
     "data": {
      "text/plain": [
       "array([ nan,  nan,  nan])"
      ]
     },
     "execution_count": 125,
     "metadata": {},
     "output_type": "execute_result"
    }
   ],
   "source": [
    "tpr"
   ]
  },
  {
   "cell_type": "code",
   "execution_count": 120,
   "metadata": {},
   "outputs": [
    {
     "data": {
      "image/png": "[encoded data removed]",
      "text/plain": [
       "<Figure size 648x504 with 1 Axes>"
      ]
     },
     "metadata": {
      "needs_background": "light"
     },
     "output_type": "display_data"
    }
   ],
   "source": [
    "roc_auc = auc(fpr, tpr)\n",
    "#GRAPH DATA\n",
    "plt.figure()\n",
    "plt.xlabel('False Positive Rate')\n",
    "plt.ylabel('True Positive Rate')\n",
    "plt.plot([0, 1], [0, 1], color='navy', linestyle='--')\n",
    "plt.xlim([0.0, 1.0])\n",
    "plt.ylim([0.0, 1.05])\n",
    "plt.title('SVM Classifier ROC')\n",
    "plt.plot(fpr, tpr, color='blue', lw=2, label='SVM ROC area = %0.2f)' % roc_auc)\n",
    "plt.legend(loc=\"lower right\")\n",
    "plt.show()"
   ]
  },
  {
   "cell_type": "code",
   "execution_count": null,
   "metadata": {},
   "outputs": [],
   "source": []
  }
 ],
 "metadata": {
  "kernelspec": {
   "display_name": "Python 3",
   "language": "python",
   "name": "python3"
  },
  "language_info": {
   "codemirror_mode": {
    "name": "ipython",
    "version": 3
   },
   "file_extension": ".py",
   "mimetype": "text/x-python",
   "name": "python",
   "nbconvert_exporter": "python",
   "pygments_lexer": "ipython3",
   "version": "3.6.9"
  }
 },
 "nbformat": 4,
 "nbformat_minor": 4
}
